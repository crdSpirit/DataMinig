import numpy as np

def forwardPass(inputs, weight, bias):
    w_sum = np.dot(inputs, weight) + bias

    # Linear Activation f(x) = x
    act = w_sum

    return act

# Pre-Trained Weights & Biases after Training
W = np.array([[0.555580]])
b = np.array([-10.99999928])

# Initialize Input Data
inputs = np.array([[130],[150],[170],[210],[240],[260],[290],[220]])

# Output of Output Layer
o_out = forwardPass(inputs, W, b)

print('Output Layer Output (Linear)')
print('================================')
print(o_out, "\n")