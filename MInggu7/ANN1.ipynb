import numpy as np

def forwardPass(inputs, weight, bias):
    w_sum = np.dot(inputs, weight) + bias

    act = w_sum

    return act

W = np.array([[3]])
b = np.array([2])

inputs = np.array([[7], [8], [9], [10]])

o_out = forwardPass(inputs, W, b)

print('Output Layer Output (Linear)')
print('================================')
print(o_out, "\n")