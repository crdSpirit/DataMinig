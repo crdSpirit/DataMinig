{
 "cells": [
  {
   "cell_type": "code",
   "execution_count": 10,
   "id": "4fb4fbd8-ce9d-4978-b588-dfb0adbb5385",
   "metadata": {},
   "outputs": [
    {
     "data": {
      "text/html": [
       "<div>\n",
       "<style scoped>\n",
       "    .dataframe tbody tr th:only-of-type {\n",
       "        vertical-align: middle;\n",
       "    }\n",
       "\n",
       "    .dataframe tbody tr th {\n",
       "        vertical-align: top;\n",
       "    }\n",
       "\n",
       "    .dataframe thead th {\n",
       "        text-align: right;\n",
       "    }\n",
       "</style>\n",
       "<table border=\"1\" class=\"dataframe\">\n",
       "  <thead>\n",
       "    <tr style=\"text-align: right;\">\n",
       "      <th></th>\n",
       "      <th>NPSN</th>\n",
       "      <th>Nama Satuan Pendidikan</th>\n",
       "      <th>Alamat</th>\n",
       "      <th>Kelurahan</th>\n",
       "      <th>Status</th>\n",
       "    </tr>\n",
       "  </thead>\n",
       "  <tbody>\n",
       "    <tr>\n",
       "      <th>0</th>\n",
       "      <td>20331839</td>\n",
       "      <td>SMP AL ISLAM</td>\n",
       "      <td>JL. BANGETAYU WETAN</td>\n",
       "      <td>BANGETAYU WETAN</td>\n",
       "      <td>SWASTA</td>\n",
       "    </tr>\n",
       "    <tr>\n",
       "      <th>1</th>\n",
       "      <td>20328955</td>\n",
       "      <td>SMP ALHUDA</td>\n",
       "      <td>JL SEMBUNGHARJO</td>\n",
       "      <td>BANGETAYU WETAN</td>\n",
       "      <td>SWASTA</td>\n",
       "    </tr>\n",
       "    <tr>\n",
       "      <th>2</th>\n",
       "      <td>20328959</td>\n",
       "      <td>SMP FILIAL NEGERI 20</td>\n",
       "      <td>JL. KARANGROTO BLOK C</td>\n",
       "      <td>KARANGROTO</td>\n",
       "      <td>NEGERI</td>\n",
       "    </tr>\n",
       "    <tr>\n",
       "      <th>3</th>\n",
       "      <td>20331853</td>\n",
       "      <td>SMP HASANUDDIN 8</td>\n",
       "      <td>JL.RAYA KALIGAWE KM.5,6</td>\n",
       "      <td>TERBOYO WETAN</td>\n",
       "      <td>SWASTA</td>\n",
       "    </tr>\n",
       "    <tr>\n",
       "      <th>4</th>\n",
       "      <td>20331847</td>\n",
       "      <td>SMP HASANUDIN 10</td>\n",
       "      <td>JL. SEDAYU TUGU</td>\n",
       "      <td>SEMBUNGHARJO</td>\n",
       "      <td>SWASTA</td>\n",
       "    </tr>\n",
       "    <tr>\n",
       "      <th>5</th>\n",
       "      <td>20328811</td>\n",
       "      <td>SMP ISLAM SULTAN AGUNG 4</td>\n",
       "      <td>JL. RAYA KALIGAWE KM 4</td>\n",
       "      <td>TERBOYO KULON</td>\n",
       "      <td>SWASTA</td>\n",
       "    </tr>\n",
       "    <tr>\n",
       "      <th>6</th>\n",
       "      <td>20328818</td>\n",
       "      <td>SMP NEGERI 20 SEMARANG</td>\n",
       "      <td>JL. KAPAS UTARA RAYA II/2 SEMARANG</td>\n",
       "      <td>GEBANGSARI</td>\n",
       "      <td>NEGERI</td>\n",
       "    </tr>\n",
       "    <tr>\n",
       "      <th>7</th>\n",
       "      <td>69944233</td>\n",
       "      <td>SMP NEGERI 43 SEMARANG</td>\n",
       "      <td>JL. JEMPONO RT. 01 RW. 01</td>\n",
       "      <td>BANGETAYU KULON</td>\n",
       "      <td>NEGERI</td>\n",
       "    </tr>\n",
       "    <tr>\n",
       "      <th>8</th>\n",
       "      <td>20331874</td>\n",
       "      <td>SMP NURUL ULUM</td>\n",
       "      <td>KH ZAENUDIN NO 53</td>\n",
       "      <td>KARANGROTO</td>\n",
       "      <td>SWASTA</td>\n",
       "    </tr>\n",
       "    <tr>\n",
       "      <th>9</th>\n",
       "      <td>20331880</td>\n",
       "      <td>SMP PUTRA NUSANTARA</td>\n",
       "      <td>JL. PRINGGONDANI II</td>\n",
       "      <td>BANGETAYU WETAN</td>\n",
       "      <td>SWASTA</td>\n",
       "    </tr>\n",
       "  </tbody>\n",
       "</table>\n",
       "</div>"
      ],
      "text/plain": [
       "        NPSN    Nama Satuan Pendidikan                              Alamat  \\\n",
       "0   20331839              SMP AL ISLAM                 JL. BANGETAYU WETAN   \n",
       "1   20328955                SMP ALHUDA                     JL SEMBUNGHARJO   \n",
       "2   20328959      SMP FILIAL NEGERI 20               JL. KARANGROTO BLOK C   \n",
       "3   20331853          SMP HASANUDDIN 8             JL.RAYA KALIGAWE KM.5,6   \n",
       "4   20331847          SMP HASANUDIN 10                     JL. SEDAYU TUGU   \n",
       "5   20328811  SMP ISLAM SULTAN AGUNG 4              JL. RAYA KALIGAWE KM 4   \n",
       "6   20328818    SMP NEGERI 20 SEMARANG  JL. KAPAS UTARA RAYA II/2 SEMARANG   \n",
       "7   69944233    SMP NEGERI 43 SEMARANG           JL. JEMPONO RT. 01 RW. 01   \n",
       "8   20331874            SMP NURUL ULUM                   KH ZAENUDIN NO 53   \n",
       "9   20331880       SMP PUTRA NUSANTARA                 JL. PRINGGONDANI II   \n",
       "\n",
       "         Kelurahan  Status  \n",
       "0  BANGETAYU WETAN  SWASTA  \n",
       "1  BANGETAYU WETAN  SWASTA  \n",
       "2       KARANGROTO  NEGERI  \n",
       "3    TERBOYO WETAN  SWASTA  \n",
       "4     SEMBUNGHARJO  SWASTA  \n",
       "5    TERBOYO KULON  SWASTA  \n",
       "6       GEBANGSARI  NEGERI  \n",
       "7  BANGETAYU KULON  NEGERI  \n",
       "8       KARANGROTO  SWASTA  \n",
       "9  BANGETAYU WETAN  SWASTA  "
      ]
     },
     "execution_count": 10,
     "metadata": {},
     "output_type": "execute_result"
    }
   ],
   "source": [
    "import numpy as np\n",
    "import pandas as pd\n",
    "import matplotlib.pyplot as plt\n",
    "\n",
    "datasmp = pd.read_excel(\"smpkecgenuk.xlsx\")\n",
    "datasmp.head(12)"
   ]
  },
  {
   "cell_type": "code",
   "execution_count": 11,
   "id": "81fee864-11fd-4f7b-9209-e989234dc4ce",
   "metadata": {},
   "outputs": [
    {
     "name": "stdout",
     "output_type": "stream",
     "text": [
      "<class 'pandas.core.frame.DataFrame'>\n",
      "RangeIndex: 10 entries, 0 to 9\n",
      "Data columns (total 5 columns):\n",
      " #   Column                  Non-Null Count  Dtype \n",
      "---  ------                  --------------  ----- \n",
      " 0   NPSN                    10 non-null     object\n",
      " 1   Nama Satuan Pendidikan  10 non-null     object\n",
      " 2   Alamat                  10 non-null     object\n",
      " 3   Kelurahan               10 non-null     object\n",
      " 4   Status                  10 non-null     object\n",
      "dtypes: object(5)\n",
      "memory usage: 528.0+ bytes\n"
     ]
    }
   ],
   "source": [
    "datasmp.info()"
   ]
  },
  {
   "cell_type": "code",
   "execution_count": 16,
   "id": "1b5244a6-d500-4cc0-9386-95304013ad54",
   "metadata": {},
   "outputs": [
    {
     "data": {
      "image/png": "[encoded data removed]",
      "text/plain": [
       "<Figure size 432x288 with 1 Axes>"
      ]
     },
     "metadata": {
      "needs_background": "light"
     },
     "output_type": "display_data"
    }
   ],
   "source": [
    "from sklearn.cluster import KMeans\n",
    "plt.scatter(datasmp.Status, datasmp.Kelurahan, marker = \"o\", alpha = 0.5)\n",
    "plt.show()"
   ]
  },
  {
   "cell_type": "code",
   "execution_count": 30,
   "id": "d3bdfd0e-3f38-4238-b5c1-5c7418d292e5",
   "metadata": {},
   "outputs": [
    {
     "data": {
      "text/html": [
       "<div>\n",
       "<style scoped>\n",
       "    .dataframe tbody tr th:only-of-type {\n",
       "        vertical-align: middle;\n",
       "    }\n",
       "\n",
       "    .dataframe tbody tr th {\n",
       "        vertical-align: top;\n",
       "    }\n",
       "\n",
       "    .dataframe thead th {\n",
       "        text-align: right;\n",
       "    }\n",
       "</style>\n",
       "<table border=\"1\" class=\"dataframe\">\n",
       "  <thead>\n",
       "    <tr style=\"text-align: right;\">\n",
       "      <th></th>\n",
       "      <th>NPSN</th>\n",
       "    </tr>\n",
       "  </thead>\n",
       "  <tbody>\n",
       "    <tr>\n",
       "      <th>0</th>\n",
       "      <td>20331839</td>\n",
       "    </tr>\n",
       "    <tr>\n",
       "      <th>1</th>\n",
       "      <td>20328955</td>\n",
       "    </tr>\n",
       "    <tr>\n",
       "      <th>2</th>\n",
       "      <td>20328959</td>\n",
       "    </tr>\n",
       "    <tr>\n",
       "      <th>3</th>\n",
       "      <td>20331853</td>\n",
       "    </tr>\n",
       "    <tr>\n",
       "      <th>4</th>\n",
       "      <td>20331847</td>\n",
       "    </tr>\n",
       "    <tr>\n",
       "      <th>5</th>\n",
       "      <td>20328811</td>\n",
       "    </tr>\n",
       "    <tr>\n",
       "      <th>6</th>\n",
       "      <td>20328818</td>\n",
       "    </tr>\n",
       "    <tr>\n",
       "      <th>7</th>\n",
       "      <td>69944233</td>\n",
       "    </tr>\n",
       "    <tr>\n",
       "      <th>8</th>\n",
       "      <td>20331874</td>\n",
       "    </tr>\n",
       "    <tr>\n",
       "      <th>9</th>\n",
       "      <td>20331880</td>\n",
       "    </tr>\n",
       "  </tbody>\n",
       "</table>\n",
       "</div>"
      ],
      "text/plain": [
       "        NPSN\n",
       "0   20331839\n",
       "1   20328955\n",
       "2   20328959\n",
       "3   20331853\n",
       "4   20331847\n",
       "5   20328811\n",
       "6   20328818\n",
       "7   69944233\n",
       "8   20331874\n",
       "9   20331880"
      ]
     },
     "execution_count": 30,
     "metadata": {},
     "output_type": "execute_result"
    }
   ],
   "source": [
    "x = datasmp.drop([\"Alamat\", \"Nama Satuan Pendidikan\", \"Kelurahan\", \"Status\"], axis=1)\n",
    "x.head(12)"
   ]
  },
  {
   "cell_type": "code",
   "execution_count": 31,
   "id": "f98cdd12-336b-4add-bbb9-37baa7d5761e",
   "metadata": {},
   "outputs": [
    {
     "data": {
      "text/plain": [
       "0                SMP AL ISLAM\n",
       "1                  SMP ALHUDA\n",
       "2        SMP FILIAL NEGERI 20\n",
       "3            SMP HASANUDDIN 8\n",
       "4            SMP HASANUDIN 10\n",
       "5    SMP ISLAM SULTAN AGUNG 4\n",
       "6      SMP NEGERI 20 SEMARANG\n",
       "7      SMP NEGERI 43 SEMARANG\n",
       "8              SMP NURUL ULUM\n",
       "9         SMP PUTRA NUSANTARA\n",
       "Name: Nama Satuan Pendidikan, dtype: object"
      ]
     },
     "execution_count": 31,
     "metadata": {},
     "output_type": "execute_result"
    }
   ],
   "source": [
    "y = datasmp[\"Nama Satuan Pendidikan\"]\n",
    "y.head(12)"
   ]
  },
  {
   "cell_type": "code",
   "execution_count": 33,
   "id": "145f3ab8-11be-4eb9-a639-065327b5886e",
   "metadata": {},
   "outputs": [
    {
     "data": {
      "text/html": [
       "<div>\n",
       "<style scoped>\n",
       "    .dataframe tbody tr th:only-of-type {\n",
       "        vertical-align: middle;\n",
       "    }\n",
       "\n",
       "    .dataframe tbody tr th {\n",
       "        vertical-align: top;\n",
       "    }\n",
       "\n",
       "    .dataframe thead th {\n",
       "        text-align: right;\n",
       "    }\n",
       "</style>\n",
       "<table border=\"1\" class=\"dataframe\">\n",
       "  <thead>\n",
       "    <tr style=\"text-align: right;\">\n",
       "      <th></th>\n",
       "      <th>NPSN</th>\n",
       "      <th>Nama Satuan Pendidikan</th>\n",
       "      <th>Alamat</th>\n",
       "      <th>Kelurahan</th>\n",
       "      <th>Status</th>\n",
       "    </tr>\n",
       "  </thead>\n",
       "  <tbody>\n",
       "    <tr>\n",
       "      <th>0</th>\n",
       "      <td>20331839</td>\n",
       "      <td>SMP AL ISLAM</td>\n",
       "      <td>JL. BANGETAYU WETAN</td>\n",
       "      <td>BANGETAYU WETAN</td>\n",
       "      <td>SWASTA</td>\n",
       "    </tr>\n",
       "    <tr>\n",
       "      <th>1</th>\n",
       "      <td>20328955</td>\n",
       "      <td>SMP ALHUDA</td>\n",
       "      <td>JL SEMBUNGHARJO</td>\n",
       "      <td>BANGETAYU WETAN</td>\n",
       "      <td>SWASTA</td>\n",
       "    </tr>\n",
       "    <tr>\n",
       "      <th>2</th>\n",
       "      <td>20328959</td>\n",
       "      <td>SMP FILIAL NEGERI 20</td>\n",
       "      <td>JL. KARANGROTO BLOK C</td>\n",
       "      <td>KARANGROTO</td>\n",
       "      <td>NEGERI</td>\n",
       "    </tr>\n",
       "    <tr>\n",
       "      <th>3</th>\n",
       "      <td>20331853</td>\n",
       "      <td>SMP HASANUDDIN 8</td>\n",
       "      <td>JL.RAYA KALIGAWE KM.5,6</td>\n",
       "      <td>TERBOYO WETAN</td>\n",
       "      <td>SWASTA</td>\n",
       "    </tr>\n",
       "    <tr>\n",
       "      <th>4</th>\n",
       "      <td>20331847</td>\n",
       "      <td>SMP HASANUDIN 10</td>\n",
       "      <td>JL. SEDAYU TUGU</td>\n",
       "      <td>SEMBUNGHARJO</td>\n",
       "      <td>SWASTA</td>\n",
       "    </tr>\n",
       "    <tr>\n",
       "      <th>5</th>\n",
       "      <td>20328811</td>\n",
       "      <td>SMP ISLAM SULTAN AGUNG 4</td>\n",
       "      <td>JL. RAYA KALIGAWE KM 4</td>\n",
       "      <td>TERBOYO KULON</td>\n",
       "      <td>SWASTA</td>\n",
       "    </tr>\n",
       "    <tr>\n",
       "      <th>6</th>\n",
       "      <td>20328818</td>\n",
       "      <td>SMP NEGERI 20 SEMARANG</td>\n",
       "      <td>JL. KAPAS UTARA RAYA II/2 SEMARANG</td>\n",
       "      <td>GEBANGSARI</td>\n",
       "      <td>NEGERI</td>\n",
       "    </tr>\n",
       "    <tr>\n",
       "      <th>7</th>\n",
       "      <td>69944233</td>\n",
       "      <td>SMP NEGERI 43 SEMARANG</td>\n",
       "      <td>JL. JEMPONO RT. 01 RW. 01</td>\n",
       "      <td>BANGETAYU KULON</td>\n",
       "      <td>NEGERI</td>\n",
       "    </tr>\n",
       "    <tr>\n",
       "      <th>8</th>\n",
       "      <td>20331874</td>\n",
       "      <td>SMP NURUL ULUM</td>\n",
       "      <td>KH ZAENUDIN NO 53</td>\n",
       "      <td>KARANGROTO</td>\n",
       "      <td>SWASTA</td>\n",
       "    </tr>\n",
       "    <tr>\n",
       "      <th>9</th>\n",
       "      <td>20331880</td>\n",
       "      <td>SMP PUTRA NUSANTARA</td>\n",
       "      <td>JL. PRINGGONDANI II</td>\n",
       "      <td>BANGETAYU WETAN</td>\n",
       "      <td>SWASTA</td>\n",
       "    </tr>\n",
       "  </tbody>\n",
       "</table>\n",
       "</div>"
      ],
      "text/plain": [
       "        NPSN    Nama Satuan Pendidikan                              Alamat  \\\n",
       "0   20331839              SMP AL ISLAM                 JL. BANGETAYU WETAN   \n",
       "1   20328955                SMP ALHUDA                     JL SEMBUNGHARJO   \n",
       "2   20328959      SMP FILIAL NEGERI 20               JL. KARANGROTO BLOK C   \n",
       "3   20331853          SMP HASANUDDIN 8             JL.RAYA KALIGAWE KM.5,6   \n",
       "4   20331847          SMP HASANUDIN 10                     JL. SEDAYU TUGU   \n",
       "5   20328811  SMP ISLAM SULTAN AGUNG 4              JL. RAYA KALIGAWE KM 4   \n",
       "6   20328818    SMP NEGERI 20 SEMARANG  JL. KAPAS UTARA RAYA II/2 SEMARANG   \n",
       "7   69944233    SMP NEGERI 43 SEMARANG           JL. JEMPONO RT. 01 RW. 01   \n",
       "8   20331874            SMP NURUL ULUM                   KH ZAENUDIN NO 53   \n",
       "9   20331880       SMP PUTRA NUSANTARA                 JL. PRINGGONDANI II   \n",
       "\n",
       "         Kelurahan  Status  \n",
       "0  BANGETAYU WETAN  SWASTA  \n",
       "1  BANGETAYU WETAN  SWASTA  \n",
       "2       KARANGROTO  NEGERI  \n",
       "3    TERBOYO WETAN  SWASTA  \n",
       "4     SEMBUNGHARJO  SWASTA  \n",
       "5    TERBOYO KULON  SWASTA  \n",
       "6       GEBANGSARI  NEGERI  \n",
       "7  BANGETAYU KULON  NEGERI  \n",
       "8       KARANGROTO  SWASTA  \n",
       "9  BANGETAYU WETAN  SWASTA  "
      ]
     },
     "execution_count": 33,
     "metadata": {},
     "output_type": "execute_result"
    }
   ],
   "source": [
    "from sklearn.model_selection import train_test_split\n",
    "from sklearn.naive_bayes import GaussianNB\n",
    "modelnb = GaussianNB()\n",
    "nbtrain = modelnb.fit(x, y)\n",
    "datacek = pd.read_excel(\"smpkecgenuk.xlsx\")\n",
    "datacek.head(12)"
   ]
  },
  {
   "cell_type": "code",
   "execution_count": 36,
   "id": "2320236c-5ba7-4bb8-879c-1509d355a2d5",
   "metadata": {},
   "outputs": [
    {
     "data": {
      "text/html": [
       "<div>\n",
       "<style scoped>\n",
       "    .dataframe tbody tr th:only-of-type {\n",
       "        vertical-align: middle;\n",
       "    }\n",
       "\n",
       "    .dataframe tbody tr th {\n",
       "        vertical-align: top;\n",
       "    }\n",
       "\n",
       "    .dataframe thead th {\n",
       "        text-align: right;\n",
       "    }\n",
       "</style>\n",
       "<table border=\"1\" class=\"dataframe\">\n",
       "  <thead>\n",
       "    <tr style=\"text-align: right;\">\n",
       "      <th></th>\n",
       "      <th>NPSN</th>\n",
       "    </tr>\n",
       "  </thead>\n",
       "  <tbody>\n",
       "    <tr>\n",
       "      <th>0</th>\n",
       "      <td>20331839</td>\n",
       "    </tr>\n",
       "    <tr>\n",
       "      <th>1</th>\n",
       "      <td>20328955</td>\n",
       "    </tr>\n",
       "    <tr>\n",
       "      <th>2</th>\n",
       "      <td>20328959</td>\n",
       "    </tr>\n",
       "    <tr>\n",
       "      <th>3</th>\n",
       "      <td>20331853</td>\n",
       "    </tr>\n",
       "    <tr>\n",
       "      <th>4</th>\n",
       "      <td>20331847</td>\n",
       "    </tr>\n",
       "    <tr>\n",
       "      <th>5</th>\n",
       "      <td>20328811</td>\n",
       "    </tr>\n",
       "    <tr>\n",
       "      <th>6</th>\n",
       "      <td>20328818</td>\n",
       "    </tr>\n",
       "    <tr>\n",
       "      <th>7</th>\n",
       "      <td>69944233</td>\n",
       "    </tr>\n",
       "    <tr>\n",
       "      <th>8</th>\n",
       "      <td>20331874</td>\n",
       "    </tr>\n",
       "    <tr>\n",
       "      <th>9</th>\n",
       "      <td>20331880</td>\n",
       "    </tr>\n",
       "  </tbody>\n",
       "</table>\n",
       "</div>"
      ],
      "text/plain": [
       "        NPSN\n",
       "0   20331839\n",
       "1   20328955\n",
       "2   20328959\n",
       "3   20331853\n",
       "4   20331847\n",
       "5   20328811\n",
       "6   20328818\n",
       "7   69944233\n",
       "8   20331874\n",
       "9   20331880"
      ]
     },
     "execution_count": 36,
     "metadata": {},
     "output_type": "execute_result"
    }
   ],
   "source": [
    "x_test = datacek.drop([\"Alamat\", \"Nama Satuan Pendidikan\", \"Kelurahan\", \"Status\"], axis=1)\n",
    "x_test.head(12)"
   ]
  },
  {
   "cell_type": "code",
   "execution_count": 35,
   "id": "d113560b-74e2-4a06-b119-06b461f51a1d",
   "metadata": {},
   "outputs": [
    {
     "data": {
      "text/plain": [
       "0                SMP AL ISLAM\n",
       "1                  SMP ALHUDA\n",
       "2        SMP FILIAL NEGERI 20\n",
       "3            SMP HASANUDDIN 8\n",
       "4            SMP HASANUDIN 10\n",
       "5    SMP ISLAM SULTAN AGUNG 4\n",
       "6      SMP NEGERI 20 SEMARANG\n",
       "7      SMP NEGERI 43 SEMARANG\n",
       "8              SMP NURUL ULUM\n",
       "9         SMP PUTRA NUSANTARA\n",
       "Name: Nama Satuan Pendidikan, dtype: object"
      ]
     },
     "execution_count": 35,
     "metadata": {},
     "output_type": "execute_result"
    }
   ],
   "source": [
    "y_coba = datacek[\"Nama Satuan Pendidikan\"]\n",
    "y_coba.head(12)"
   ]
  },
  {
   "cell_type": "code",
   "execution_count": 37,
   "id": "45c9f869-86ea-415d-b6cd-6a04ba8fff21",
   "metadata": {},
   "outputs": [
    {
     "name": "stdout",
     "output_type": "stream",
     "text": [
      "Prediksi Naive Bayes :  ['SMP AL ISLAM' 'SMP ALHUDA' 'SMP FILIAL NEGERI 20' 'SMP HASANUDDIN 8'\n",
      " 'SMP HASANUDIN 10' 'SMP ISLAM SULTAN AGUNG 4' 'SMP NEGERI 20 SEMARANG'\n",
      " 'SMP NEGERI 43 SEMARANG' 'SMP NURUL ULUM' 'SMP PUTRA NUSANTARA']\n"
     ]
    }
   ],
   "source": [
    "Y_predict = nbtrain.predict(x_test)\n",
    "print(\"Prediksi Naive Bayes : \",Y_predict)"
   ]
  },
  {
   "cell_type": "code",
   "execution_count": 38,
   "id": "574e6576-e664-4e70-b9f2-ee63d39fdb87",
   "metadata": {},
   "outputs": [
    {
     "name": "stdout",
     "output_type": "stream",
     "text": [
      "Akurasi Naive Bayes :  1.0\n"
     ]
    }
   ],
   "source": [
    "from sklearn.metrics import accuracy_score\n",
    "accuracy = accuracy_score(y_coba, Y_predict)\n",
    "print(\"Akurasi Naive Bayes : \",accuracy)"
   ]
  },
  {
   "cell_type": "code",
   "execution_count": 39,
   "id": "ea6b7338-99d5-451f-859c-7a677583b779",
   "metadata": {},
   "outputs": [
    {
     "name": "stdout",
     "output_type": "stream",
     "text": [
      "                          precision    recall  f1-score   support\n",
      "\n",
      "            SMP AL ISLAM       1.00      1.00      1.00         1\n",
      "              SMP ALHUDA       1.00      1.00      1.00         1\n",
      "    SMP FILIAL NEGERI 20       1.00      1.00      1.00         1\n",
      "        SMP HASANUDDIN 8       1.00      1.00      1.00         1\n",
      "        SMP HASANUDIN 10       1.00      1.00      1.00         1\n",
      "SMP ISLAM SULTAN AGUNG 4       1.00      1.00      1.00         1\n",
      "  SMP NEGERI 20 SEMARANG       1.00      1.00      1.00         1\n",
      "  SMP NEGERI 43 SEMARANG       1.00      1.00      1.00         1\n",
      "          SMP NURUL ULUM       1.00      1.00      1.00         1\n",
      "     SMP PUTRA NUSANTARA       1.00      1.00      1.00         1\n",
      "\n",
      "                accuracy                           1.00        10\n",
      "               macro avg       1.00      1.00      1.00        10\n",
      "            weighted avg       1.00      1.00      1.00        10\n",
      "\n"
     ]
    }
   ],
   "source": [
    "from sklearn.metrics import classification_report\n",
    "print(classification_report(y_coba, Y_predict))"
   ]
  },
  {
   "cell_type": "code",
   "execution_count": null,
   "id": "218108c3-1cfd-449c-a83d-cc76d692a983",
   "metadata": {},
   "outputs": [],
   "source": []
  }
 ],
 "metadata": {
  "kernelspec": {
   "display_name": "Python 3 (ipykernel)",
   "language": "python",
   "name": "python3"
  },
  "language_info": {
   "codemirror_mode": {
    "name": "ipython",
    "version": 3
   },
   "file_extension": ".py",
   "mimetype": "text/x-python",
   "name": "python",
   "nbconvert_exporter": "python",
   "pygments_lexer": "ipython3",
   "version": "3.10.4"
  }
 },
 "nbformat": 4,
 "nbformat_minor": 5
}
